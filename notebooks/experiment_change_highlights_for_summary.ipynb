{
 "cells": [
  {
   "cell_type": "markdown",
   "id": "1378aa5d-3f21-4ba3-b3c3-a47e237d39ae",
   "metadata": {},
   "source": [
    "# Change highlights for summary\n",
    "We want to experiment what happens to the score if we provide different highlights for each summary.\n",
    "Since some documents have more than one (highlight, summary) pair, it should be easy to test.\n",
    "This notebook mixes the data."
   ]
  },
  {
   "cell_type": "code",
   "execution_count": null,
   "id": "f3733c93-5b56-4f65-b79f-6d436d3c5236",
   "metadata": {},
   "outputs": [],
   "source": [
    "import pandas as pd\n",
    "df = pd.read_csv(\"data/test__highlights.csv\")\n",
    "\n",
    "df.head()"
   ]
  },
  {
   "cell_type": "code",
   "execution_count": null,
   "id": "2d4c9ed7-dc4a-4894-a4cf-041d0a80924e",
   "metadata": {},
   "outputs": [],
   "source": [
    "def mix_rows(rows):\n",
    "    mixed_rows = []\n",
    "    \n",
    "    any_row = rows.iloc[0]\n",
    "    doc_text = any_row['doc_text']\n",
    "    \n",
    "    for summ_row_i, summ_row in rows.iterrows():\n",
    "        for highlight_row_i, highlight_row in rows.iterrows():\n",
    "            if summ_row_i != highlight_row_i:\n",
    "                assert summ_row['summary_text'] != highlight_row['summary_text']\n",
    "                mixed_rows.append({\n",
    "                    \"doc_text\": doc_text,\n",
    "                    \"summary_text\": summ_row['summary_text'],\n",
    "                    \"highlight_spans\": highlight_row['highlight_spans']\n",
    "                })\n",
    "                \n",
    "    return pd.DataFrame(mixed_rows)\n",
    "\n",
    "\n",
    "mixed_df = df.groupby(\"doc_text\").apply(mix_rows)\n",
    "mixed_df.to_csv(\"data/test__highlights__mixed.csv\")\n",
    "mixed_df.head()"
   ]
  }
 ],
 "metadata": {
  "kernelspec": {
   "display_name": "eran_nlp_38",
   "language": "python",
   "name": "eran_nlp_38"
  },
  "language_info": {
   "codemirror_mode": {
    "name": "ipython",
    "version": 3
   },
   "file_extension": ".py",
   "mimetype": "text/x-python",
   "name": "python",
   "nbconvert_exporter": "python",
   "pygments_lexer": "ipython3",
   "version": "3.8.12"
  }
 },
 "nbformat": 4,
 "nbformat_minor": 5
}
